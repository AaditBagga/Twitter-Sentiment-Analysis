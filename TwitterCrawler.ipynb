{
 "cells": [
  {
   "cell_type": "code",
   "execution_count": 5,
   "metadata": {},
   "outputs": [],
   "source": [
    "import sys\n",
    "import csv\n",
    "import tweepy\n",
    "import matplotlib.pyplot as plt\n",
    "\n",
    "from collections import Counter\n",
    "from aylienapiclient import textapi\n",
    "%matplotlib inline\n",
    "from tweepy import OAuthHandler\n",
    "from tweepy import API\n",
    "from tweepy import Cursor\n",
    "import json\n",
    "import pandas as pd\n",
    "import matplotlib as mpl\n",
    "from matplotlib.ticker import MaxNLocator\n",
    "from matplotlib import rcParams\n",
    "from mpltools import style\n",
    "from matplotlib import dates\n",
    "from datetime import datetime\n",
    "import seaborn as sns\n",
    "import time\n",
    "import os\n",
    "from scipy.misc import imread\n",
    "from wordcloud import WordCloud, STOPWORDS, ImageColorGenerator\n",
    "import random\n",
    "\n",
    "if sys.version_info[0] < 3:\n",
    "   input = raw_input\n",
    "sns.set_palette(\"deep\", desat=.6)\n",
    "sns.set_context(rc={\"figure.figsize\": (8, 4)})\n",
    "\n"
   ]
  },
  {
   "cell_type": "code",
   "execution_count": 6,
   "metadata": {},
   "outputs": [],
   "source": [
    "## Twitter credentials\n",
    "consumer_key = \"UtsvYfI3sWLZ2wBSd5qvBsip5\"\n",
    "consumer_secret = \"M9r75BjT6dg5L29Io06wZGzKxgRKQVqg1Vf9yIYvGYz2LdRSF5\"\n",
    "access_token = \"748410320440303618-clDFbLCGL926mEhmn0R5xogpsBdMCNk\"\n",
    "access_token_secret = \"Mv6sgYmGek54D1JxggUPoXzB4CgPyJyISWZ7XFdgZDTqe\"\n",
    "\n",
    "## AYLIEN credentials\n",
    "application_id = \" 9a3b142a\"\n",
    "application_key = \"b83b8296582fcbf83e91b495bcce2aad\"\n"
   ]
  },
  {
   "cell_type": "code",
   "execution_count": 7,
   "metadata": {},
   "outputs": [
    {
     "name": "stdout",
     "output_type": "stream",
     "text": [
      "What subject do you want to analyze for this example? \n",
      "modi\n",
      "How many Tweets do you want to analyze? \n",
      "50\n",
      "--- Gathered Tweets \n",
      "\n"
     ]
    }
   ],
   "source": [
    "\n",
    "## set up an instance of Tweepy\n",
    "auth = tweepy.OAuthHandler(consumer_key, consumer_secret)\n",
    "auth.set_access_token(access_token, access_token_secret)\n",
    "api = tweepy.API(auth)\n",
    "\n",
    "## set up an instance of the AYLIEN Text API\n",
    "client = textapi.Client(application_id,application_key)\n",
    " \n",
    "## search Twitter for something that interests you\n",
    "query = input(\"What subject do you want to analyze for this example? \\n\")\n",
    "number = input(\"How many Tweets do you want to analyze? \\n\")\n",
    "\n",
    "results = api.search(\n",
    "   lang=\"en\",\n",
    "   q=query + \" -rt\",\n",
    "   count=number,\n",
    "   result_type=\"recent\"\n",
    ")\n",
    "\n",
    "print(\"--- Gathered Tweets \\n\")\n"
   ]
  },
  {
   "cell_type": "code",
   "execution_count": 8,
   "metadata": {},
   "outputs": [
    {
     "name": "stdout",
     "output_type": "stream",
     "text": [
      "--- Opened a CSV file to store the results of your sentiment analysis... \n",
      "\n",
      "Analyzed Tweet 1\n",
      "Analyzed Tweet 2\n",
      "Analyzed Tweet 3\n",
      "Analyzed Tweet 4\n",
      "Analyzed Tweet 5\n",
      "Analyzed Tweet 6\n",
      "Analyzed Tweet 7\n",
      "Analyzed Tweet 8\n",
      "Analyzed Tweet 9\n",
      "Analyzed Tweet 10\n",
      "Analyzed Tweet 11\n",
      "Analyzed Tweet 12\n",
      "Analyzed Tweet 13\n",
      "Analyzed Tweet 14\n",
      "Analyzed Tweet 15\n",
      "Analyzed Tweet 16\n",
      "Analyzed Tweet 17\n",
      "Analyzed Tweet 18\n",
      "Analyzed Tweet 19\n",
      "Analyzed Tweet 20\n",
      "Analyzed Tweet 21\n",
      "Analyzed Tweet 22\n",
      "Analyzed Tweet 23\n",
      "Analyzed Tweet 24\n",
      "Analyzed Tweet 25\n",
      "Analyzed Tweet 26\n",
      "Analyzed Tweet 27\n",
      "Analyzed Tweet 28\n",
      "Analyzed Tweet 29\n",
      "Analyzed Tweet 30\n",
      "Analyzed Tweet 31\n",
      "Analyzed Tweet 32\n",
      "Analyzed Tweet 33\n",
      "Analyzed Tweet 34\n",
      "Analyzed Tweet 35\n",
      "Analyzed Tweet 36\n",
      "Analyzed Tweet 37\n",
      "Analyzed Tweet 38\n",
      "Analyzed Tweet 39\n",
      "Analyzed Tweet 40\n",
      "Analyzed Tweet 41\n",
      "Analyzed Tweet 42\n",
      "Analyzed Tweet 43\n",
      "Analyzed Tweet 44\n",
      "Analyzed Tweet 45\n",
      "Analyzed Tweet 46\n",
      "Analyzed Tweet 47\n",
      "Analyzed Tweet 48\n",
      "Analyzed Tweet 49\n",
      "Analyzed Tweet 50\n"
     ]
    }
   ],
   "source": [
    "## open a csv file to store the Tweets and their sentiment \n",
    "file_name = 'Sentiment_Analysis_of_{}_Tweets_About_{}.csv'.format(number, query)\n",
    "\n",
    "with open(file_name, 'w', newline='') as csvfile:\n",
    "   csv_writer = csv.DictWriter(\n",
    "       f=csvfile,\n",
    "       fieldnames=[\"Tweet\", \"Sentiment\"]\n",
    "   )\n",
    "   csv_writer.writeheader()\n",
    "\n",
    "   print(\"--- Opened a CSV file to store the results of your sentiment analysis... \\n\")\n",
    "\n",
    "## tidy up the Tweets and send each to the AYLIEN Text API\n",
    "   for c, result in enumerate(results, start=1):\n",
    "       tweet = result.text\n",
    "       tidy_tweet = tweet.strip().encode('ascii', 'ignore')\n",
    "\n",
    "       if len(tweet) == 0:\n",
    "           print('Empty Tweet')\n",
    "           continue\n",
    "\n",
    "       response = client.Sentiment({'text': tidy_tweet})\n",
    "       csv_writer.writerow({mo\n",
    "           'Tweet': response['text'],\n",
    "           'Sentiment': response['polarity']\n",
    "       })\n",
    "\n",
    "       print(\"Analyzed Tweet {}\".format(c))\n",
    "\n"
   ]
  },
  {
   "cell_type": "code",
   "execution_count": 9,
   "metadata": {},
   "outputs": [],
   "source": [
    "## count the data in the Sentiment column of the CSV file \n",
    "with open(file_name, 'r') as data:\n",
    "   counter = Counter()\n",
    "   for row in csv.DictReader(data):\n",
    "       counter[row['Sentiment']] += 1\n",
    "\n",
    "   positive = counter['positive']\n",
    "   negative = counter['negative']\n",
    "   neutral = counter['neutral']\n"
   ]
  },
  {
   "cell_type": "code",
   "execution_count": 10,
   "metadata": {},
   "outputs": [
    {
     "data": {
      "image/png": "[encoded data removed]",
      "text/plain": [
       "<Figure size 432x288 with 1 Axes>"
      ]
     },
     "metadata": {},
     "output_type": "display_data"
    }
   ],
   "source": [
    "## declare the variables for the pie chart, using the Counter variables for \"sizes\"\n",
    "colors = ['green', 'red', 'grey']\n",
    "sizes = [positive, negative, neutral]\n",
    "labels = 'Positive', 'Negative', 'Neutral'\n",
    "\n",
    "## use matplotlib to plot the chart\n",
    "plt.pie(\n",
    "   x=sizes,\n",
    "   shadow=True,\n",
    "   colors=colors,\n",
    "   labels=labels,\n",
    "   startangle=90\n",
    ")\n",
    "\n",
    "plt.title(\"Sentiment of {} Tweets about {}\".format(number, query))\n",
    "plt.show()\n"
   ]
  },
  {
   "cell_type": "code",
   "execution_count": 11,
   "metadata": {},
   "outputs": [
    {
     "name": "stdout",
     "output_type": "stream",
     "text": [
      "What subject do you want to analyze for this example? \n",
      "modi\n"
     ]
    }
   ],
   "source": [
    "max_tweet = 100\n",
    "search_query =input(\"What subject do you want to analyze for this example? \\n\")\n",
    "\n",
    "data=Cursor(api.search,q=search_query).items(max_tweet)"
   ]
  },
  {
   "cell_type": "code",
   "execution_count": 12,
   "metadata": {},
   "outputs": [],
   "source": [
    "li = []\n",
    "i=0\n",
    "for tweet in data:\n",
    "    i+=1\n",
    "    \n",
    "    li.append(tweet._json['text'])\n"
   ]
  },
  {
   "cell_type": "code",
   "execution_count": 13,
   "metadata": {},
   "outputs": [],
   "source": [
    "tweetd = pd.DataFrame()\n",
    "tweetd['text'] = li"
   ]
  },
  {
   "cell_type": "code",
   "execution_count": 14,
   "metadata": {},
   "outputs": [],
   "source": [
    "text = \" \".join(tweetd['text'].values.astype(str))"
   ]
  },
  {
   "cell_type": "code",
   "execution_count": 15,
   "metadata": {},
   "outputs": [],
   "source": [
    "no_urls_no_tags = \" \".join([word for word in text.split()\n",
    "                                if 'http' not in word\n",
    "                                    and not word.startswith('@')\n",
    "                                    and word != 'RT'\n",
    "                                ])\n"
   ]
  },
  {
   "cell_type": "code",
   "execution_count": 16,
   "metadata": {},
   "outputs": [],
   "source": [
    "wc = WordCloud(background_color=\"black\", stopwords=STOPWORDS, width=1800,\n",
    "                          height=1440)  #mask=moz_mask,  font_path=\"/Library/Fonts/Verdana.ttf\"\n"
   ]
  },
  {
   "cell_type": "code",
   "execution_count": 17,
   "metadata": {},
   "outputs": [
    {
     "data": {
      "text/plain": [
       "<wordcloud.wordcloud.WordCloud at 0x249048fa668>"
      ]
     },
     "execution_count": 17,
     "metadata": {},
     "output_type": "execute_result"
    }
   ],
   "source": [
    "wc.generate(no_urls_no_tags)"
   ]
  },
  {
   "cell_type": "code",
   "execution_count": 18,
   "metadata": {},
   "outputs": [
    {
     "data": {
      "image/png": "[encoded data removed]",
      "text/plain": [
       "<Figure size 432x288 with 1 Axes>"
      ]
     },
     "metadata": {},
     "output_type": "display_data"
    }
   ],
   "source": [
    "plt.imshow(wc)\n",
    "plt.axis(\"off\")\n",
    "plt.savefig('tweet.png', dpi=1500)"
   ]
  },
  {
   "cell_type": "markdown",
   "metadata": {},
   "source": []
  },
  {
   "cell_type": "code",
   "execution_count": null,
   "metadata": {},
   "outputs": [],
   "source": []
  }
 ],
 "metadata": {
  "kernelspec": {
   "display_name": "Python 3",
   "language": "python",
   "name": "python3"
  },
  "language_info": {
   "codemirror_mode": {
    "name": "ipython",
    "version": 3
   },
   "file_extension": ".py",
   "mimetype": "text/x-python",
   "name": "python",
   "nbconvert_exporter": "python",
   "pygments_lexer": "ipython3",
   "version": "3.6.5"
  }
 },
 "nbformat": 4,
 "nbformat_minor": 2
}
